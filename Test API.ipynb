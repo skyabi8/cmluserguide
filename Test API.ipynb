{
 "cells": [
  {
   "cell_type": "code",
   "execution_count": 1,
   "id": "b0a4f332-7806-4777-a34a-2442ebeb487f",
   "metadata": {},
   "outputs": [
    {
     "name": "stdout",
     "output_type": "stream",
     "text": [
      "Requirement already satisfied: pandas in ./.local/lib/python3.9/site-packages (2.1.4)\n",
      "Requirement already satisfied: python-dateutil>=2.8.2 in /usr/local/lib/python3.9/site-packages (from pandas) (2.8.2)\n",
      "Requirement already satisfied: tzdata>=2022.1 in ./.local/lib/python3.9/site-packages (from pandas) (2023.3)\n",
      "Requirement already satisfied: numpy<2,>=1.22.4 in ./.local/lib/python3.9/site-packages (from pandas) (1.26.2)\n",
      "Requirement already satisfied: pytz>=2020.1 in /usr/local/lib/python3.9/site-packages (from pandas) (2021.1)\n",
      "Requirement already satisfied: six>=1.5 in /usr/local/lib/python3.9/site-packages (from python-dateutil>=2.8.2->pandas) (1.15.0)\n"
     ]
    }
   ],
   "source": [
    "import os\n",
    "os.system(\"pip install pandas\")\n",
    "\n",
    "import pandas as pd\n",
    "import random\n",
    "import string"
   ]
  },
  {
   "cell_type": "code",
   "execution_count": 2,
   "id": "ea534ee2-3c19-4566-8a12-5868242dcaba",
   "metadata": {},
   "outputs": [
    {
     "name": "stdout",
     "output_type": "stream",
     "text": [
      "  Column_1  Column_2\n",
      "0    ywIOQ        54\n",
      "1    EuLmD        48\n",
      "2    NSmSo        50\n",
      "3    nVcQt        98\n",
      "4    ezbzY        45\n",
      "5    dzLbB        20\n",
      "6    qsCEt        17\n",
      "7    Jswiu        77\n",
      "8    aQAZG        44\n",
      "9    BNxny        95\n"
     ]
    }
   ],
   "source": [
    "# Creating sample lists\n",
    "list_1 = [''.join(random.choices(string.ascii_letters, k=5)) for _ in range(10)]\n",
    "list_2 = [random.randint(1, 100) for _ in range(10)]\n",
    "\n",
    "# Converting lists to a DataFrame\n",
    "data = {'Column_1': list_1, 'Column_2': list_2}\n",
    "df = pd.DataFrame(data)\n",
    "\n",
    "# Displaying the DataFrame\n",
    "print(df)"
   ]
  },
  {
   "cell_type": "code",
   "execution_count": 3,
   "id": "de140bdb-7c30-43de-91b9-378775f9054b",
   "metadata": {},
   "outputs": [
    {
     "name": "stdout",
     "output_type": "stream",
     "text": [
      "Python 3.9.11\n"
     ]
    },
    {
     "data": {
      "text/plain": [
       "0"
      ]
     },
     "execution_count": 3,
     "metadata": {},
     "output_type": "execute_result"
    }
   ],
   "source": [
    "os.system(\"python -V\")"
   ]
  },
  {
   "cell_type": "code",
   "execution_count": 13,
   "id": "4a361664-d710-47f0-918f-2ab37776e9d9",
   "metadata": {},
   "outputs": [
    {
     "name": "stdout",
     "output_type": "stream",
     "text": [
      "Bukan pencucian uang\n",
      "Bukan pencucian uang\n"
     ]
    }
   ],
   "source": [
    "import requests\n",
    "import json\n",
    "\n",
    "param = {\n",
    "  \"Receiving_Currency\": \"US Dollar\",\n",
    "  \"Payment_Currency\": \"US Dollar\",\n",
    "  \"Payment_Format\": \"Cash\",\n",
    "  \"Amount_Received\": 10000,\n",
    "  \"Amount_Paid\": 10000\n",
    "}\n",
    "\n",
    "ACC_KEY = \"m8hbb4qobnyd5a0mgv7avzmpu9my25us\"\n",
    "ACC_KEY_API = \"mekd4mnufrzd436tskj9wt8wirlzmr0c\"\n",
    "API_KEY = \"4b54f076bcf580338d0c0d8c2c24c13fef16516e0b40837dc6fa5223366003c0.9ee8187dd3c858eddff946a49ee646abc8ea4e85a70e726a444315f7a767be8c\"\n",
    "\n",
    "bb_dict = {\"accessKey\":ACC_KEY}\n",
    "bb_dict[\"request\"] = param\n",
    "output = requests.post('https://modelservice.cmlprd.apps.dataservice.kemenkeu.go.id/model', \n",
    "                data=json.dumps(bb_dict), \n",
    "                headers={'Content-Type': 'application/json'}).json()['response']\n",
    "\n",
    "print(output)\n",
    "\n",
    "# with API KEY\n",
    "bb_dict = {\"accessKey\":ACC_KEY_API}\n",
    "bb_dict[\"request\"] = param\n",
    "output_api = requests.post('https://modelservice.cmlprd.apps.dataservice.kemenkeu.go.id/model', \n",
    "                data=json.dumps(bb_dict), \n",
    "                headers={'Content-Type': 'application/json', \n",
    "    'Authorization': f'Bearer {API_KEY}'}).json()['response']\n",
    "print(output_api)"
   ]
  },
  {
   "cell_type": "code",
   "execution_count": null,
   "id": "e043df2d-533a-4a90-ab49-fd933c0489e1",
   "metadata": {},
   "outputs": [],
   "source": []
  }
 ],
 "metadata": {
  "kernelspec": {
   "display_name": "Python 3 (ipykernel)",
   "language": "python",
   "name": "python3"
  },
  "language_info": {
   "codemirror_mode": {
    "name": "ipython",
    "version": 3
   },
   "file_extension": ".py",
   "mimetype": "text/x-python",
   "name": "python",
   "nbconvert_exporter": "python",
   "pygments_lexer": "ipython3",
   "version": "3.9.11"
  }
 },
 "nbformat": 4,
 "nbformat_minor": 5
}
